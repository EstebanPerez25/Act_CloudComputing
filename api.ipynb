{
 "cells": [
  {
   "cell_type": "markdown",
   "metadata": {},
   "source": [
    "# Usar el modelo desplegado"
   ]
  },
  {
   "cell_type": "markdown",
   "metadata": {},
   "source": [
    "**Cargar datos de prueba**"
   ]
  },
  {
   "cell_type": "markdown",
   "metadata": {},
   "source": [
    "**Librerías**"
   ]
  },
  {
   "cell_type": "code",
   "execution_count": 2,
   "metadata": {},
   "outputs": [],
   "source": [
    "import pandas as pd\n",
    "import json\n",
    "import requests"
   ]
  },
  {
   "cell_type": "markdown",
   "metadata": {},
   "source": [
    "**Leer datos de prueba**"
   ]
  },
  {
   "cell_type": "code",
   "execution_count": 4,
   "metadata": {},
   "outputs": [
    {
     "data": {
      "application/vnd.microsoft.datawrangler.viewer.v0+json": {
       "columns": [
        {
         "name": "index",
         "rawType": "int64",
         "type": "integer"
        },
        {
         "name": " ROA(C) before interest and depreciation before interest",
         "rawType": "float64",
         "type": "float"
        },
        {
         "name": " ROA(A) before interest and % after tax",
         "rawType": "float64",
         "type": "float"
        },
        {
         "name": " ROA(B) before interest and depreciation after tax",
         "rawType": "float64",
         "type": "float"
        }
       ],
       "conversionMethod": "pd.DataFrame",
       "ref": "72ba9a42-6bdb-464a-abd6-c45ac76f5100",
       "rows": [
        [
         "0",
         "0.401745234729196",
         "0.442269952027911",
         "0.44857861769902"
        ],
        [
         "1",
         "0.409203919465705",
         "0.46091365023986",
         "0.453503934900155"
        ],
        [
         "2",
         "0.532394091551699",
         "0.580680331443524",
         "0.57428127844103"
        ],
        [
         "3",
         "0.497733144834983",
         "0.562309201918884",
         "0.553616360618877"
        ],
        [
         "4",
         "0.471993370058012",
         "0.536851286524204",
         "0.524974570373146"
        ]
       ],
       "shape": {
        "columns": 3,
        "rows": 5
       }
      },
      "text/html": [
       "<div>\n",
       "<style scoped>\n",
       "    .dataframe tbody tr th:only-of-type {\n",
       "        vertical-align: middle;\n",
       "    }\n",
       "\n",
       "    .dataframe tbody tr th {\n",
       "        vertical-align: top;\n",
       "    }\n",
       "\n",
       "    .dataframe thead th {\n",
       "        text-align: right;\n",
       "    }\n",
       "</style>\n",
       "<table border=\"1\" class=\"dataframe\">\n",
       "  <thead>\n",
       "    <tr style=\"text-align: right;\">\n",
       "      <th></th>\n",
       "      <th>ROA(C) before interest and depreciation before interest</th>\n",
       "      <th>ROA(A) before interest and % after tax</th>\n",
       "      <th>ROA(B) before interest and depreciation after tax</th>\n",
       "    </tr>\n",
       "  </thead>\n",
       "  <tbody>\n",
       "    <tr>\n",
       "      <th>0</th>\n",
       "      <td>0.401745</td>\n",
       "      <td>0.442270</td>\n",
       "      <td>0.448579</td>\n",
       "    </tr>\n",
       "    <tr>\n",
       "      <th>1</th>\n",
       "      <td>0.409204</td>\n",
       "      <td>0.460914</td>\n",
       "      <td>0.453504</td>\n",
       "    </tr>\n",
       "    <tr>\n",
       "      <th>2</th>\n",
       "      <td>0.532394</td>\n",
       "      <td>0.580680</td>\n",
       "      <td>0.574281</td>\n",
       "    </tr>\n",
       "    <tr>\n",
       "      <th>3</th>\n",
       "      <td>0.497733</td>\n",
       "      <td>0.562309</td>\n",
       "      <td>0.553616</td>\n",
       "    </tr>\n",
       "    <tr>\n",
       "      <th>4</th>\n",
       "      <td>0.471993</td>\n",
       "      <td>0.536851</td>\n",
       "      <td>0.524975</td>\n",
       "    </tr>\n",
       "  </tbody>\n",
       "</table>\n",
       "</div>"
      ],
      "text/plain": [
       "   ROA(C) before interest and depreciation before interest  \\\n",
       "0                                           0.401745         \n",
       "1                                           0.409204         \n",
       "2                                           0.532394         \n",
       "3                                           0.497733         \n",
       "4                                           0.471993         \n",
       "\n",
       "   ROA(A) before interest and % after tax  \\\n",
       "0                                0.442270   \n",
       "1                                0.460914   \n",
       "2                                0.580680   \n",
       "3                                0.562309   \n",
       "4                                0.536851   \n",
       "\n",
       "   ROA(B) before interest and depreciation after tax  \n",
       "0                                           0.448579  \n",
       "1                                           0.453504  \n",
       "2                                           0.574281  \n",
       "3                                           0.553616  \n",
       "4                                           0.524975  "
      ]
     },
     "execution_count": 4,
     "metadata": {},
     "output_type": "execute_result"
    }
   ],
   "source": [
    "testAPI_data = pd.read_csv(\"testAPI.csv\")\n",
    "test_dict = testAPI_data.to_dict(orient='list')\n",
    "\n",
    "testAPI_data"
   ]
  },
  {
   "cell_type": "markdown",
   "metadata": {},
   "source": [
    "**Convertir a formato json para utilizar la API**"
   ]
  },
  {
   "cell_type": "code",
   "execution_count": 5,
   "metadata": {},
   "outputs": [],
   "source": [
    "data_json = json.dumps({\"data\": [test_dict]})\n",
    "\n",
    "suri = open(\"uri.json\", \"r\")\n",
    "scoring_uri = json.load(suri)[\"URI\"][0]\n",
    "suri.close()"
   ]
  },
  {
   "cell_type": "markdown",
   "metadata": {},
   "source": [
    "**Utilizar modelo desplegado a través de API**"
   ]
  },
  {
   "cell_type": "code",
   "execution_count": 9,
   "metadata": {},
   "outputs": [
    {
     "name": "stdout",
     "output_type": "stream",
     "text": [
      "{'result': [0, 0, 0, 0, 0]}\n"
     ]
    },
    {
     "data": {
      "application/vnd.microsoft.datawrangler.viewer.v0+json": {
       "columns": [
        {
         "name": "index",
         "rawType": "int64",
         "type": "integer"
        },
        {
         "name": " ROA(C) before interest and depreciation before interest",
         "rawType": "float64",
         "type": "float"
        },
        {
         "name": " ROA(A) before interest and % after tax",
         "rawType": "float64",
         "type": "float"
        },
        {
         "name": " ROA(B) before interest and depreciation after tax",
         "rawType": "float64",
         "type": "float"
        },
        {
         "name": "API prediction",
         "rawType": "int64",
         "type": "integer"
        }
       ],
       "conversionMethod": "pd.DataFrame",
       "ref": "a97d5a9d-73c5-4d69-a782-15076f444319",
       "rows": [
        [
         "0",
         "0.401745234729196",
         "0.442269952027911",
         "0.44857861769902",
         "0"
        ],
        [
         "1",
         "0.409203919465705",
         "0.46091365023986",
         "0.453503934900155",
         "0"
        ],
        [
         "2",
         "0.532394091551699",
         "0.580680331443524",
         "0.57428127844103",
         "0"
        ],
        [
         "3",
         "0.497733144834983",
         "0.562309201918884",
         "0.553616360618877",
         "0"
        ],
        [
         "4",
         "0.471993370058012",
         "0.536851286524204",
         "0.524974570373146",
         "0"
        ]
       ],
       "shape": {
        "columns": 4,
        "rows": 5
       }
      },
      "text/html": [
       "<div>\n",
       "<style scoped>\n",
       "    .dataframe tbody tr th:only-of-type {\n",
       "        vertical-align: middle;\n",
       "    }\n",
       "\n",
       "    .dataframe tbody tr th {\n",
       "        vertical-align: top;\n",
       "    }\n",
       "\n",
       "    .dataframe thead th {\n",
       "        text-align: right;\n",
       "    }\n",
       "</style>\n",
       "<table border=\"1\" class=\"dataframe\">\n",
       "  <thead>\n",
       "    <tr style=\"text-align: right;\">\n",
       "      <th></th>\n",
       "      <th>ROA(C) before interest and depreciation before interest</th>\n",
       "      <th>ROA(A) before interest and % after tax</th>\n",
       "      <th>ROA(B) before interest and depreciation after tax</th>\n",
       "      <th>API prediction</th>\n",
       "    </tr>\n",
       "  </thead>\n",
       "  <tbody>\n",
       "    <tr>\n",
       "      <th>0</th>\n",
       "      <td>0.401745</td>\n",
       "      <td>0.442270</td>\n",
       "      <td>0.448579</td>\n",
       "      <td>0</td>\n",
       "    </tr>\n",
       "    <tr>\n",
       "      <th>1</th>\n",
       "      <td>0.409204</td>\n",
       "      <td>0.460914</td>\n",
       "      <td>0.453504</td>\n",
       "      <td>0</td>\n",
       "    </tr>\n",
       "    <tr>\n",
       "      <th>2</th>\n",
       "      <td>0.532394</td>\n",
       "      <td>0.580680</td>\n",
       "      <td>0.574281</td>\n",
       "      <td>0</td>\n",
       "    </tr>\n",
       "    <tr>\n",
       "      <th>3</th>\n",
       "      <td>0.497733</td>\n",
       "      <td>0.562309</td>\n",
       "      <td>0.553616</td>\n",
       "      <td>0</td>\n",
       "    </tr>\n",
       "    <tr>\n",
       "      <th>4</th>\n",
       "      <td>0.471993</td>\n",
       "      <td>0.536851</td>\n",
       "      <td>0.524975</td>\n",
       "      <td>0</td>\n",
       "    </tr>\n",
       "  </tbody>\n",
       "</table>\n",
       "</div>"
      ],
      "text/plain": [
       "    ROA(C) before interest and depreciation before interest  \\\n",
       "0                                           0.401745          \n",
       "1                                           0.409204          \n",
       "2                                           0.532394          \n",
       "3                                           0.497733          \n",
       "4                                           0.471993          \n",
       "\n",
       "    ROA(A) before interest and % after tax  \\\n",
       "0                                 0.442270   \n",
       "1                                 0.460914   \n",
       "2                                 0.580680   \n",
       "3                                 0.562309   \n",
       "4                                 0.536851   \n",
       "\n",
       "    ROA(B) before interest and depreciation after tax  API prediction  \n",
       "0                                           0.448579                0  \n",
       "1                                           0.453504                0  \n",
       "2                                           0.574281                0  \n",
       "3                                           0.553616                0  \n",
       "4                                           0.524975                0  "
      ]
     },
     "metadata": {},
     "output_type": "display_data"
    }
   ],
   "source": [
    "headers = {\"Content-Type\": \"application/json\"}\n",
    "\n",
    "response = requests.post(scoring_uri, data=data_json, headers=headers)\n",
    "\n",
    "\n",
    "if response.status_code == 200:\n",
    "  result = json.loads(response.json())\n",
    "  print(result)\n",
    "  testAPI_data[\"API prediction\"] = result['result']\n",
    "  display(testAPI_data)\n",
    "else:\n",
    "  print(f\"Error: {response.text}\")"
   ]
  }
 ],
 "metadata": {
  "kernelspec": {
   "display_name": ".venv",
   "language": "python",
   "name": "python3"
  },
  "language_info": {
   "codemirror_mode": {
    "name": "ipython",
    "version": 3
   },
   "file_extension": ".py",
   "mimetype": "text/x-python",
   "name": "python",
   "nbconvert_exporter": "python",
   "pygments_lexer": "ipython3",
   "version": "3.11.5"
  }
 },
 "nbformat": 4,
 "nbformat_minor": 2
}
