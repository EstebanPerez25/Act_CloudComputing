{
 "cells": [
  {
   "cell_type": "markdown",
   "metadata": {},
   "source": [
    "# Despliegue del modelo"
   ]
  },
  {
   "cell_type": "code",
   "execution_count": 1,
   "metadata": {},
   "outputs": [],
   "source": [
    "#GETTING MY ID:\n",
    "import json\n",
    "\n",
    "id = open('my_id.json', 'r')\n",
    "mi = json.load(id)"
   ]
  },
  {
   "cell_type": "markdown",
   "metadata": {},
   "source": [
    "**Crear grupo de recursos y cargar modelo**"
   ]
  },
  {
   "cell_type": "code",
   "execution_count": null,
   "metadata": {},
   "outputs": [
    {
     "name": "stderr",
     "output_type": "stream",
     "text": [
      "UserWarning: The resource group doesn't exist or was not provided. AzureML SDK is creating a resource group=rgbank_in in location=centralindia using subscription=f4648ab7-8fbe-4375-84a2-4c02e0a37c3d.\n"
     ]
    },
    {
     "name": "stdout",
     "output_type": "stream",
     "text": [
      "Deploying AppInsights with name wsbankininsightscc5671c9.\n",
      "Deployed AppInsights with name wsbankininsightscc5671c9. Took 7.36 seconds.\n",
      "Deploying StorageAccount with name wsbankinstorage759585c75.\n",
      "Deploying KeyVault with name wsbankinkeyvaultf5a3db9c.\n",
      "Deployed KeyVault with name wsbankinkeyvaultf5a3db9c. Took 25.92 seconds.\n",
      "Deployed StorageAccount with name wsbankinstorage759585c75. Took 30.37 seconds.\n",
      "Deploying Workspace with name wsbank_in.\n",
      "Deployed Workspace with name wsbank_in. Took 42.82 seconds.\n"
     ]
    }
   ],
   "source": [
    "# Crear grupo de recursos\n",
    "from azureml.core import Workspace\n",
    "\n",
    "ws = Workspace.create(name=\"wsbank_in\",\n",
    "                      subscription_id = mi[\"my_id\"],\n",
    "                      resource_group = \"rgbank_in\",\n",
    "                      location = \"centralindia\")"
   ]
  },
  {
   "cell_type": "code",
   "execution_count": null,
   "metadata": {},
   "outputs": [
    {
     "name": "stdout",
     "output_type": "stream",
     "text": [
      "Registering model bank_model\n"
     ]
    }
   ],
   "source": [
    "# Cargar modelo a grupo de recursos\n",
    "from azureml.core.model import Model\n",
    "\n",
    "registered_model = Model.register(model_path=\"model.pkl\",\n",
    "                                  model_name=\"bank_model\",\n",
    "                                  workspace=ws)"
   ]
  },
  {
   "cell_type": "markdown",
   "metadata": {},
   "source": [
    "**Crear archivo score.py**"
   ]
  },
  {
   "cell_type": "code",
   "execution_count": 5,
   "metadata": {},
   "outputs": [],
   "source": [
    "scorepy = \"\"\"\n",
    "import json\n",
    "import joblib\n",
    "import numpy as np\n",
    "import pandas as pd\n",
    "from azureml.core.model import Model\n",
    "\n",
    "def init():\n",
    "  global model\n",
    "  model_path = Model.get_model_path('bank_model')\n",
    "  model = joblib.load(model_path)\n",
    "\n",
    "def run(raw_data):\n",
    "  try:\n",
    "    data = json.loads(raw_data)['data'][0]\n",
    "    data = pd.DataFrame(data)\n",
    "\n",
    "    result = model.predict(data)\n",
    "\n",
    "    return json.dumps({\"result\": result.tolist()})\n",
    "  except Exception as e:\n",
    "    return json.dumps({\"error\": str(e)})\n",
    "\"\"\"\n",
    "\n",
    "file_score = open(\"score.py\", \"w\")\n",
    "file_score.write(scorepy)\n",
    "file_score.close()"
   ]
  },
  {
   "cell_type": "markdown",
   "metadata": {},
   "source": [
    "**Crear entorno virtual y dependencias**"
   ]
  },
  {
   "cell_type": "code",
   "execution_count": 6,
   "metadata": {},
   "outputs": [],
   "source": [
    "from azureml.core.environment import Environment\n",
    "virtual_env = Environment(\"env_bank\")\n",
    "\n",
    "from azureml.core.conda_dependencies import CondaDependencies\n",
    "virtual_env.python.conda_dependencies = CondaDependencies.create(conda_packages=[\n",
    "    'pandas',\n",
    "    'scikit-learn'\n",
    "    ])"
   ]
  },
  {
   "cell_type": "markdown",
   "metadata": {},
   "source": [
    "**Configuración de inferencia y despliegue del modelo**"
   ]
  },
  {
   "cell_type": "code",
   "execution_count": 7,
   "metadata": {},
   "outputs": [
    {
     "name": "stderr",
     "output_type": "stream",
     "text": [
      "C:\\Users\\Esteban\\AppData\\Local\\Temp\\ipykernel_27884\\2900293506.py:10: FutureWarning: azureml.core.model:\n",
      "To leverage new model deployment capabilities, AzureML recommends using CLI/SDK v2 to deploy models as online endpoint, \n",
      "please refer to respective documentations \n",
      "https://docs.microsoft.com/azure/machine-learning/how-to-deploy-managed-online-endpoints /\n",
      "https://docs.microsoft.com/azure/machine-learning/how-to-attach-kubernetes-anywhere \n",
      "For more information on migration, see https://aka.ms/acimoemigration \n",
      "To disable CLI/SDK v1 deprecation warning set AZUREML_LOG_DEPRECATION_WARNING_ENABLED to 'False'\n",
      "  service = Model.deploy(workspace=ws,\n"
     ]
    }
   ],
   "source": [
    "from azureml.core.model import InferenceConfig\n",
    "from azureml.core.webservice import AciWebservice\n",
    "\n",
    "inference_config = InferenceConfig(\n",
    "                                environment=virtual_env,\n",
    "                                entry_script=\"score.py\",\n",
    "                                )\n",
    "aci_config = AciWebservice.deploy_configuration(cpu_cores=0.5, memory_gb=1)\n",
    "\n",
    "service = Model.deploy(workspace=ws,\n",
    "                       name='bankrup-service',\n",
    "                       models=[registered_model],\n",
    "                       inference_config=inference_config,\n",
    "                       deployment_config=aci_config,\n",
    "                       overwrite=True,\n",
    "                       )"
   ]
  },
  {
   "cell_type": "code",
   "execution_count": 9,
   "metadata": {},
   "outputs": [
    {
     "name": "stdout",
     "output_type": "stream",
     "text": [
      "ACI service creation operation finished, operation \"Succeeded\"\n"
     ]
    }
   ],
   "source": [
    "# Deployment\n",
    "service.wait_for_deployment()"
   ]
  },
  {
   "cell_type": "markdown",
   "metadata": {},
   "source": [
    "**Guardar URI para usar el modelo**"
   ]
  },
  {
   "cell_type": "code",
   "execution_count": 10,
   "metadata": {},
   "outputs": [],
   "source": [
    "scoring_uri = service.scoring_uri\n",
    "\n",
    "scoreuri = json.dumps({\"URI\": [scoring_uri]})\n",
    "file = open(\"uri.json\", \"w\")\n",
    "file.write(scoreuri)\n",
    "file.close()"
   ]
  },
  {
   "cell_type": "code",
   "execution_count": 13,
   "metadata": {},
   "outputs": [
    {
     "name": "stdout",
     "output_type": "stream",
     "text": [
      "http://e4df5a73-6f6c-4ce0-a263-3fdcd7a4479b.centralindia.azurecontainer.io/score\n"
     ]
    }
   ],
   "source": [
    "print(scoring_uri)"
   ]
  },
  {
   "cell_type": "code",
   "execution_count": null,
   "metadata": {},
   "outputs": [],
   "source": []
  }
 ],
 "metadata": {
  "kernelspec": {
   "display_name": ".venv",
   "language": "python",
   "name": "python3"
  },
  "language_info": {
   "codemirror_mode": {
    "name": "ipython",
    "version": 3
   },
   "file_extension": ".py",
   "mimetype": "text/x-python",
   "name": "python",
   "nbconvert_exporter": "python",
   "pygments_lexer": "ipython3",
   "version": "3.11.5"
  }
 },
 "nbformat": 4,
 "nbformat_minor": 2
}
